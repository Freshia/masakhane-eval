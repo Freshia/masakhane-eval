{
  "nbformat": 4,
  "nbformat_minor": 0,
  "metadata": {
    "colab": {
      "name": "CovidSurveyTranslation.ipynb",
      "provenance": [],
      "collapsed_sections": [],
      "toc_visible": true,
      "include_colab_link": true
    },
    "kernelspec": {
      "name": "python3",
      "display_name": "Python 3"
    },
    "accelerator": "GPU",
    "widgets": {
      "application/vnd.jupyter.widget-state+json": {
        "c9b1546cf8624f5aa36e3033a795aa78": {
          "model_module": "@jupyter-widgets/controls",
          "model_name": "DropdownModel",
          "state": {
            "_options_labels": [
              "af",
              "efi",
              "bin",
              "ish",
              "ha",
              "ig",
              "iso",
              "kam",
              "ki",
              "luo",
              "pcm",
              "nso",
              "st",
              "tiv",
              "ts",
              "yo",
              "zu"
            ],
            "_view_name": "DropdownView",
            "style": "IPY_MODEL_9d185f22728e43769815655439765080",
            "_dom_classes": [],
            "description": "",
            "_model_name": "DropdownModel",
            "index": 16,
            "_view_module": "@jupyter-widgets/controls",
            "_model_module_version": "1.5.0",
            "_view_count": null,
            "disabled": false,
            "_view_module_version": "1.5.0",
            "description_tooltip": null,
            "_model_module": "@jupyter-widgets/controls",
            "layout": "IPY_MODEL_a033c0d79ec24b11b44995a523a64eac"
          }
        },
        "9d185f22728e43769815655439765080": {
          "model_module": "@jupyter-widgets/controls",
          "model_name": "DescriptionStyleModel",
          "state": {
            "_view_name": "StyleView",
            "_model_name": "DescriptionStyleModel",
            "description_width": "",
            "_view_module": "@jupyter-widgets/base",
            "_model_module_version": "1.5.0",
            "_view_count": null,
            "_view_module_version": "1.2.0",
            "_model_module": "@jupyter-widgets/controls"
          }
        },
        "a033c0d79ec24b11b44995a523a64eac": {
          "model_module": "@jupyter-widgets/base",
          "model_name": "LayoutModel",
          "state": {
            "_view_name": "LayoutView",
            "grid_template_rows": null,
            "right": null,
            "justify_content": null,
            "_view_module": "@jupyter-widgets/base",
            "overflow": null,
            "_model_module_version": "1.2.0",
            "_view_count": null,
            "flex_flow": null,
            "width": null,
            "min_width": null,
            "border": null,
            "align_items": null,
            "bottom": null,
            "_model_module": "@jupyter-widgets/base",
            "top": null,
            "grid_column": null,
            "overflow_y": null,
            "overflow_x": null,
            "grid_auto_flow": null,
            "grid_area": null,
            "grid_template_columns": null,
            "flex": null,
            "_model_name": "LayoutModel",
            "justify_items": null,
            "grid_row": null,
            "max_height": null,
            "align_content": null,
            "visibility": null,
            "align_self": null,
            "height": null,
            "min_height": null,
            "padding": null,
            "grid_auto_rows": null,
            "grid_gap": null,
            "max_width": null,
            "order": null,
            "_view_module_version": "1.2.0",
            "grid_template_areas": null,
            "object_position": null,
            "object_fit": null,
            "grid_auto_columns": null,
            "margin": null,
            "display": null,
            "left": null
          }
        },
        "9148a22fd5774ca28f439ccae70c0da2": {
          "model_module": "@jupyter-widgets/output",
          "model_name": "OutputModel",
          "state": {
            "_view_name": "OutputView",
            "msg_id": "",
            "_dom_classes": [],
            "_model_name": "OutputModel",
            "outputs": [
              {
                "output_type": "display_data",
                "metadata": {
                  "tags": []
                },
                "application/vnd.jupyter.widget-view+json": {
                  "model_id": "51c8dea4c636416da035d9f42319f05a",
                  "version_minor": 0,
                  "version_major": 2
                },
                "text/plain": "Label(value='Please correct the mistakes in the following translation (1 out of 38):')"
              },
              {
                "output_type": "display_data",
                "metadata": {
                  "tags": []
                },
                "application/vnd.jupyter.widget-view+json": {
                  "model_id": "267d33e0a5474c6ba3382c01cc3903c3",
                  "version_minor": 0,
                  "version_major": 2
                },
                "text/plain": "Textarea(value='We are an international team of scientists from several research institutions around the world…"
              },
              {
                "output_type": "display_data",
                "metadata": {
                  "tags": []
                },
                "application/vnd.jupyter.widget-view+json": {
                  "model_id": "9aa882b2f8344d34998277ca0f58a05b",
                  "version_minor": 0,
                  "version_major": 2
                },
                "text/plain": "Textarea(value='\"ons is’ n internasionale span van wetenskaplikes van etlike navorsings oor die wêreld wat pro…"
              },
              {
                "output_type": "display_data",
                "metadata": {
                  "tags": []
                },
                "application/vnd.jupyter.widget-view+json": {
                  "model_id": "9553be3cc60e43ceb25bc8c55a1a7d7c",
                  "version_minor": 0,
                  "version_major": 2
                },
                "text/plain": "Button(description='Previous Sentence', icon='check', style=ButtonStyle(), tooltip='Click me')"
              },
              {
                "output_type": "display_data",
                "metadata": {
                  "tags": []
                },
                "application/vnd.jupyter.widget-view+json": {
                  "model_id": "62359c1e315840b183be4bda2bc45d08",
                  "version_minor": 0,
                  "version_major": 2
                },
                "text/plain": "Button(description='Next Sentence', icon='check', style=ButtonStyle(), tooltip='Click me')"
              }
            ],
            "_view_module": "@jupyter-widgets/output",
            "_model_module_version": "1.0.0",
            "_view_count": null,
            "_view_module_version": "1.0.0",
            "layout": "IPY_MODEL_44cb61ed814b4d88ac8d9b72d46e96e9",
            "_model_module": "@jupyter-widgets/output"
          }
        },
        "51c8dea4c636416da035d9f42319f05a": {
          "model_module": "@jupyter-widgets/controls",
          "model_name": "LabelModel",
          "state": {
            "_view_name": "LabelView",
            "style": "IPY_MODEL_09164a9768f74afeae63f4886c705e1e",
            "_dom_classes": [],
            "description": "",
            "_model_name": "LabelModel",
            "placeholder": "​",
            "_view_module": "@jupyter-widgets/controls",
            "_model_module_version": "1.5.0",
            "value": "Please correct the mistakes in the following translation (38 out of 38):",
            "_view_count": null,
            "_view_module_version": "1.5.0",
            "description_tooltip": null,
            "_model_module": "@jupyter-widgets/controls",
            "layout": "IPY_MODEL_9e1b7b98b3f9438381990e133a9df8bb"
          }
        },
        "44cb61ed814b4d88ac8d9b72d46e96e9": {
          "model_module": "@jupyter-widgets/base",
          "model_name": "LayoutModel",
          "state": {
            "_view_name": "LayoutView",
            "grid_template_rows": null,
            "right": null,
            "justify_content": null,
            "_view_module": "@jupyter-widgets/base",
            "overflow": null,
            "_model_module_version": "1.2.0",
            "_view_count": null,
            "flex_flow": null,
            "width": null,
            "min_width": null,
            "border": null,
            "align_items": null,
            "bottom": null,
            "_model_module": "@jupyter-widgets/base",
            "top": null,
            "grid_column": null,
            "overflow_y": null,
            "overflow_x": null,
            "grid_auto_flow": null,
            "grid_area": null,
            "grid_template_columns": null,
            "flex": null,
            "_model_name": "LayoutModel",
            "justify_items": null,
            "grid_row": null,
            "max_height": null,
            "align_content": null,
            "visibility": null,
            "align_self": null,
            "height": null,
            "min_height": null,
            "padding": null,
            "grid_auto_rows": null,
            "grid_gap": null,
            "max_width": null,
            "order": null,
            "_view_module_version": "1.2.0",
            "grid_template_areas": null,
            "object_position": null,
            "object_fit": null,
            "grid_auto_columns": null,
            "margin": null,
            "display": null,
            "left": null
          }
        },
        "09164a9768f74afeae63f4886c705e1e": {
          "model_module": "@jupyter-widgets/controls",
          "model_name": "DescriptionStyleModel",
          "state": {
            "_view_name": "StyleView",
            "_model_name": "DescriptionStyleModel",
            "description_width": "",
            "_view_module": "@jupyter-widgets/base",
            "_model_module_version": "1.5.0",
            "_view_count": null,
            "_view_module_version": "1.2.0",
            "_model_module": "@jupyter-widgets/controls"
          }
        },
        "9e1b7b98b3f9438381990e133a9df8bb": {
          "model_module": "@jupyter-widgets/base",
          "model_name": "LayoutModel",
          "state": {
            "_view_name": "LayoutView",
            "grid_template_rows": null,
            "right": null,
            "justify_content": null,
            "_view_module": "@jupyter-widgets/base",
            "overflow": null,
            "_model_module_version": "1.2.0",
            "_view_count": null,
            "flex_flow": null,
            "width": null,
            "min_width": null,
            "border": null,
            "align_items": null,
            "bottom": null,
            "_model_module": "@jupyter-widgets/base",
            "top": null,
            "grid_column": null,
            "overflow_y": null,
            "overflow_x": null,
            "grid_auto_flow": null,
            "grid_area": null,
            "grid_template_columns": null,
            "flex": null,
            "_model_name": "LayoutModel",
            "justify_items": null,
            "grid_row": null,
            "max_height": null,
            "align_content": null,
            "visibility": null,
            "align_self": null,
            "height": null,
            "min_height": null,
            "padding": null,
            "grid_auto_rows": null,
            "grid_gap": null,
            "max_width": null,
            "order": null,
            "_view_module_version": "1.2.0",
            "grid_template_areas": null,
            "object_position": null,
            "object_fit": null,
            "grid_auto_columns": null,
            "margin": null,
            "display": null,
            "left": null
          }
        },
        "267d33e0a5474c6ba3382c01cc3903c3": {
          "model_module": "@jupyter-widgets/controls",
          "model_name": "TextareaModel",
          "state": {
            "_view_name": "TextareaView",
            "style": "IPY_MODEL_1923ea9f4c9a4c0fba704119510668ef",
            "rows": 5,
            "_dom_classes": [],
            "description": "Source",
            "_model_name": "TextareaModel",
            "placeholder": "​",
            "_view_module": "@jupyter-widgets/controls",
            "_model_module_version": "1.5.0",
            "value": "Please answer this survey once a day, even if your answers do not change.",
            "_view_count": null,
            "disabled": true,
            "_view_module_version": "1.5.0",
            "continuous_update": true,
            "description_tooltip": null,
            "_model_module": "@jupyter-widgets/controls",
            "layout": "IPY_MODEL_43c2b066512a419b88a75305f5ca2057"
          }
        },
        "1923ea9f4c9a4c0fba704119510668ef": {
          "model_module": "@jupyter-widgets/controls",
          "model_name": "DescriptionStyleModel",
          "state": {
            "_view_name": "StyleView",
            "_model_name": "DescriptionStyleModel",
            "description_width": "",
            "_view_module": "@jupyter-widgets/base",
            "_model_module_version": "1.5.0",
            "_view_count": null,
            "_view_module_version": "1.2.0",
            "_model_module": "@jupyter-widgets/controls"
          }
        },
        "43c2b066512a419b88a75305f5ca2057": {
          "model_module": "@jupyter-widgets/base",
          "model_name": "LayoutModel",
          "state": {
            "_view_name": "LayoutView",
            "grid_template_rows": null,
            "right": null,
            "justify_content": null,
            "_view_module": "@jupyter-widgets/base",
            "overflow": "auto",
            "_model_module_version": "1.2.0",
            "_view_count": null,
            "flex_flow": null,
            "width": "90%",
            "min_width": null,
            "border": null,
            "align_items": null,
            "bottom": null,
            "_model_module": "@jupyter-widgets/base",
            "top": null,
            "grid_column": null,
            "overflow_y": null,
            "overflow_x": null,
            "grid_auto_flow": null,
            "grid_area": null,
            "grid_template_columns": null,
            "flex": null,
            "_model_name": "LayoutModel",
            "justify_items": null,
            "grid_row": null,
            "max_height": null,
            "align_content": null,
            "visibility": null,
            "align_self": null,
            "height": null,
            "min_height": null,
            "padding": null,
            "grid_auto_rows": null,
            "grid_gap": null,
            "max_width": null,
            "order": null,
            "_view_module_version": "1.2.0",
            "grid_template_areas": null,
            "object_position": null,
            "object_fit": null,
            "grid_auto_columns": null,
            "margin": null,
            "display": null,
            "left": null
          }
        },
        "9aa882b2f8344d34998277ca0f58a05b": {
          "model_module": "@jupyter-widgets/controls",
          "model_name": "TextareaModel",
          "state": {
            "_view_name": "TextareaView",
            "style": "IPY_MODEL_b2046bc532514d9698809c0a1574b111",
            "rows": 5,
            "_dom_classes": [],
            "description": "Target",
            "_model_name": "TextareaModel",
            "placeholder": "​",
            "_view_module": "@jupyter-widgets/controls",
            "_model_module_version": "1.5.0",
            "value": "\"antwoord asseblief hierdie oppervlakkige dag, selfs as jou antwoorde nie verander nie.",
            "_view_count": null,
            "disabled": false,
            "_view_module_version": "1.5.0",
            "continuous_update": true,
            "description_tooltip": null,
            "_model_module": "@jupyter-widgets/controls",
            "layout": "IPY_MODEL_c4e362edbdb34115b953e7d287656b19"
          }
        },
        "b2046bc532514d9698809c0a1574b111": {
          "model_module": "@jupyter-widgets/controls",
          "model_name": "DescriptionStyleModel",
          "state": {
            "_view_name": "StyleView",
            "_model_name": "DescriptionStyleModel",
            "description_width": "",
            "_view_module": "@jupyter-widgets/base",
            "_model_module_version": "1.5.0",
            "_view_count": null,
            "_view_module_version": "1.2.0",
            "_model_module": "@jupyter-widgets/controls"
          }
        },
        "c4e362edbdb34115b953e7d287656b19": {
          "model_module": "@jupyter-widgets/base",
          "model_name": "LayoutModel",
          "state": {
            "_view_name": "LayoutView",
            "grid_template_rows": null,
            "right": null,
            "justify_content": null,
            "_view_module": "@jupyter-widgets/base",
            "overflow": "auto",
            "_model_module_version": "1.2.0",
            "_view_count": null,
            "flex_flow": null,
            "width": "90%",
            "min_width": null,
            "border": null,
            "align_items": null,
            "bottom": null,
            "_model_module": "@jupyter-widgets/base",
            "top": null,
            "grid_column": null,
            "overflow_y": null,
            "overflow_x": null,
            "grid_auto_flow": null,
            "grid_area": null,
            "grid_template_columns": null,
            "flex": null,
            "_model_name": "LayoutModel",
            "justify_items": null,
            "grid_row": null,
            "max_height": null,
            "align_content": null,
            "visibility": null,
            "align_self": null,
            "height": null,
            "min_height": null,
            "padding": null,
            "grid_auto_rows": null,
            "grid_gap": null,
            "max_width": null,
            "order": null,
            "_view_module_version": "1.2.0",
            "grid_template_areas": null,
            "object_position": null,
            "object_fit": null,
            "grid_auto_columns": null,
            "margin": null,
            "display": null,
            "left": null
          }
        },
        "9553be3cc60e43ceb25bc8c55a1a7d7c": {
          "model_module": "@jupyter-widgets/controls",
          "model_name": "ButtonModel",
          "state": {
            "_view_name": "ButtonView",
            "style": "IPY_MODEL_27d54047195d412e838a76ad3e1fc287",
            "_dom_classes": [],
            "description": "Previous Sentence",
            "_model_name": "ButtonModel",
            "button_style": "",
            "_view_module": "@jupyter-widgets/controls",
            "_model_module_version": "1.5.0",
            "tooltip": "Click me",
            "_view_count": null,
            "disabled": false,
            "_view_module_version": "1.5.0",
            "layout": "IPY_MODEL_91d2f29aa1cb4997a4fc90c1d5608df3",
            "_model_module": "@jupyter-widgets/controls",
            "icon": "check"
          }
        },
        "27d54047195d412e838a76ad3e1fc287": {
          "model_module": "@jupyter-widgets/controls",
          "model_name": "ButtonStyleModel",
          "state": {
            "_view_name": "StyleView",
            "_model_name": "ButtonStyleModel",
            "_view_module": "@jupyter-widgets/base",
            "_model_module_version": "1.5.0",
            "_view_count": null,
            "button_color": null,
            "font_weight": "",
            "_view_module_version": "1.2.0",
            "_model_module": "@jupyter-widgets/controls"
          }
        },
        "91d2f29aa1cb4997a4fc90c1d5608df3": {
          "model_module": "@jupyter-widgets/base",
          "model_name": "LayoutModel",
          "state": {
            "_view_name": "LayoutView",
            "grid_template_rows": null,
            "right": null,
            "justify_content": null,
            "_view_module": "@jupyter-widgets/base",
            "overflow": null,
            "_model_module_version": "1.2.0",
            "_view_count": null,
            "flex_flow": null,
            "width": null,
            "min_width": null,
            "border": null,
            "align_items": null,
            "bottom": null,
            "_model_module": "@jupyter-widgets/base",
            "top": null,
            "grid_column": null,
            "overflow_y": null,
            "overflow_x": null,
            "grid_auto_flow": null,
            "grid_area": null,
            "grid_template_columns": null,
            "flex": null,
            "_model_name": "LayoutModel",
            "justify_items": null,
            "grid_row": null,
            "max_height": null,
            "align_content": null,
            "visibility": null,
            "align_self": null,
            "height": null,
            "min_height": null,
            "padding": null,
            "grid_auto_rows": null,
            "grid_gap": null,
            "max_width": null,
            "order": null,
            "_view_module_version": "1.2.0",
            "grid_template_areas": null,
            "object_position": null,
            "object_fit": null,
            "grid_auto_columns": null,
            "margin": null,
            "display": null,
            "left": null
          }
        },
        "62359c1e315840b183be4bda2bc45d08": {
          "model_module": "@jupyter-widgets/controls",
          "model_name": "ButtonModel",
          "state": {
            "_view_name": "ButtonView",
            "style": "IPY_MODEL_9bd5cc0dfb89494cb6dd5192a5574824",
            "_dom_classes": [],
            "description": "Next Sentence",
            "_model_name": "ButtonModel",
            "button_style": "",
            "_view_module": "@jupyter-widgets/controls",
            "_model_module_version": "1.5.0",
            "tooltip": "Click me",
            "_view_count": null,
            "disabled": false,
            "_view_module_version": "1.5.0",
            "layout": "IPY_MODEL_8b590946fe974d18b4013b4a14ac1316",
            "_model_module": "@jupyter-widgets/controls",
            "icon": "check"
          }
        },
        "9bd5cc0dfb89494cb6dd5192a5574824": {
          "model_module": "@jupyter-widgets/controls",
          "model_name": "ButtonStyleModel",
          "state": {
            "_view_name": "StyleView",
            "_model_name": "ButtonStyleModel",
            "_view_module": "@jupyter-widgets/base",
            "_model_module_version": "1.5.0",
            "_view_count": null,
            "button_color": null,
            "font_weight": "",
            "_view_module_version": "1.2.0",
            "_model_module": "@jupyter-widgets/controls"
          }
        },
        "8b590946fe974d18b4013b4a14ac1316": {
          "model_module": "@jupyter-widgets/base",
          "model_name": "LayoutModel",
          "state": {
            "_view_name": "LayoutView",
            "grid_template_rows": null,
            "right": null,
            "justify_content": null,
            "_view_module": "@jupyter-widgets/base",
            "overflow": null,
            "_model_module_version": "1.2.0",
            "_view_count": null,
            "flex_flow": null,
            "width": null,
            "min_width": null,
            "border": null,
            "align_items": null,
            "bottom": null,
            "_model_module": "@jupyter-widgets/base",
            "top": null,
            "grid_column": null,
            "overflow_y": null,
            "overflow_x": null,
            "grid_auto_flow": null,
            "grid_area": null,
            "grid_template_columns": null,
            "flex": null,
            "_model_name": "LayoutModel",
            "justify_items": null,
            "grid_row": null,
            "max_height": null,
            "align_content": null,
            "visibility": null,
            "align_self": null,
            "height": null,
            "min_height": null,
            "padding": null,
            "grid_auto_rows": null,
            "grid_gap": null,
            "max_width": null,
            "order": null,
            "_view_module_version": "1.2.0",
            "grid_template_areas": null,
            "object_position": null,
            "object_fit": null,
            "grid_auto_columns": null,
            "margin": null,
            "display": null,
            "left": null
          }
        },
        "e5c182d0237e41b79f0ea9adee241457": {
          "model_module": "@jupyter-widgets/controls",
          "model_name": "TextareaModel",
          "state": {
            "_view_name": "TextareaView",
            "style": "IPY_MODEL_7816cd8d62b04e02874c043a137eee91",
            "rows": 5,
            "_dom_classes": [],
            "description": "Feedback",
            "_model_name": "TextareaModel",
            "placeholder": "​",
            "_view_module": "@jupyter-widgets/controls",
            "_model_module_version": "1.5.0",
            "value": "The model had difficulties... ",
            "_view_count": null,
            "disabled": false,
            "_view_module_version": "1.5.0",
            "continuous_update": true,
            "description_tooltip": null,
            "_model_module": "@jupyter-widgets/controls",
            "layout": "IPY_MODEL_cc15c1cc0f804d67be9ece15145ee3a9"
          }
        },
        "7816cd8d62b04e02874c043a137eee91": {
          "model_module": "@jupyter-widgets/controls",
          "model_name": "DescriptionStyleModel",
          "state": {
            "_view_name": "StyleView",
            "_model_name": "DescriptionStyleModel",
            "description_width": "",
            "_view_module": "@jupyter-widgets/base",
            "_model_module_version": "1.5.0",
            "_view_count": null,
            "_view_module_version": "1.2.0",
            "_model_module": "@jupyter-widgets/controls"
          }
        },
        "cc15c1cc0f804d67be9ece15145ee3a9": {
          "model_module": "@jupyter-widgets/base",
          "model_name": "LayoutModel",
          "state": {
            "_view_name": "LayoutView",
            "grid_template_rows": null,
            "right": null,
            "justify_content": null,
            "_view_module": "@jupyter-widgets/base",
            "overflow": "auto",
            "_model_module_version": "1.2.0",
            "_view_count": null,
            "flex_flow": null,
            "width": "90%",
            "min_width": null,
            "border": null,
            "align_items": null,
            "bottom": null,
            "_model_module": "@jupyter-widgets/base",
            "top": null,
            "grid_column": null,
            "overflow_y": null,
            "overflow_x": null,
            "grid_auto_flow": null,
            "grid_area": null,
            "grid_template_columns": null,
            "flex": null,
            "_model_name": "LayoutModel",
            "justify_items": null,
            "grid_row": null,
            "max_height": null,
            "align_content": null,
            "visibility": null,
            "align_self": null,
            "height": null,
            "min_height": null,
            "padding": null,
            "grid_auto_rows": null,
            "grid_gap": null,
            "max_width": null,
            "order": null,
            "_view_module_version": "1.2.0",
            "grid_template_areas": null,
            "object_position": null,
            "object_fit": null,
            "grid_auto_columns": null,
            "margin": null,
            "display": null,
            "left": null
          }
        }
      }
    }
  },
  "cells": [
    {
      "cell_type": "markdown",
      "metadata": {
        "id": "view-in-github",
        "colab_type": "text"
      },
      "source": [
        "<a href=\"https://colab.research.google.com/github/juliakreutzer/masakhane-covid/blob/master/CovidSurveyTranslation.ipynb\" target=\"_parent\"><img src=\"https://colab.research.google.com/assets/colab-badge.svg\" alt=\"Open In Colab\"/></a>"
      ]
    },
    {
      "cell_type": "markdown",
      "metadata": {
        "id": "AtMM6ucBScjd",
        "colab_type": "text"
      },
      "source": [
        "# Covid Survey Translation with Masakhane Models\n",
        "\n",
        "This notebook will load a Masakhane Joey NMT model for your selected language, will translate the [Covid-19 survey](https://coronasurveys.org/), and then present it to you. \n",
        "\n",
        "- Connect to a GPU runtime for fast translations: In the menu, select 'Runtime' -> 'Change Runtime Type' -> 'Hardware Accelarator' -> select 'GPU'.\n",
        "- Please go through and *execute this notebook cell by cell*. Sometimes cells seem to be empty because the code is hidden. Please execute them anyway. \n",
        "- Proceed  until you come to *the post-editing part* where you will be asked to provide your correction to the models' translations. \n",
        "- If any cells reports an error message that does not let you continue, please take a screenshot and email it to kreutzer@cl.uni-heidelberg.de.\n",
        "- At the very end, you'll be asked to *download* the created translation files and *send it via email*. \n",
        "\n",
        "In total, this should not take more than 30 mins to complete. **Thank you for your time! <3**"
      ]
    },
    {
      "cell_type": "markdown",
      "metadata": {
        "id": "R9rBMwIXJQsP",
        "colab_type": "text"
      },
      "source": [
        "## Getting Ready"
      ]
    },
    {
      "cell_type": "code",
      "metadata": {
        "id": "dBd6C_JbLdV2",
        "colab_type": "code",
        "outputId": "ab5acf4e-714d-4593-c764-7e2d4855a31f",
        "colab": {
          "base_uri": "https://localhost:8080/",
          "height": 53
        },
        "cellView": "form"
      },
      "source": [
        "#@title Installation\n",
        "\n",
        "! pip3 install gdown --quiet\n",
        "! pip3 install polyglot --quiet\n",
        "! pip3 install pyicu --quiet\n",
        "! pip3 install pycld2 --quiet\n",
        "! pip3 install morfessor --quiet\n",
        "! pip3 install pyter3 --quiet\n",
        "\n",
        "! git clone https://github.com/joeynmt/joeynmt.git joeynmt\n",
        "! cd joeynmt; pip3 install . --quiet"
      ],
      "execution_count": 1,
      "outputs": [
        {
          "output_type": "stream",
          "text": [
            "fatal: destination path 'joeynmt' already exists and is not an empty directory.\n",
            "  Building wheel for joeynmt (setup.py) ... \u001b[?25l\u001b[?25hdone\n"
          ],
          "name": "stdout"
        }
      ]
    },
    {
      "cell_type": "code",
      "metadata": {
        "id": "_p4R_UmKIJZL",
        "colab_type": "code",
        "colab": {},
        "cellView": "form"
      },
      "source": [
        "#@title Imports\n",
        "\n",
        "import os\n",
        "import re\n",
        "import yaml\n",
        "import sacrebleu\n",
        "import numpy as np\n",
        "import pandas as pd\n",
        "import functools\n",
        "import pyter\n",
        "import ipywidgets as widgets\n",
        "from IPython.display import display\n",
        "from polyglot.text import Text\n",
        "from subword_nmt import apply_bpe"
      ],
      "execution_count": 0,
      "outputs": []
    },
    {
      "cell_type": "markdown",
      "metadata": {
        "id": "iuZUEx1tJ2ni",
        "colab_type": "text"
      },
      "source": [
        "## Model Preparation"
      ]
    },
    {
      "cell_type": "code",
      "metadata": {
        "id": "g6_UiKZcJPui",
        "colab_type": "code",
        "colab": {
          "base_uri": "https://localhost:8080/",
          "height": 85,
          "referenced_widgets": [
            "c9b1546cf8624f5aa36e3033a795aa78",
            "9d185f22728e43769815655439765080",
            "a033c0d79ec24b11b44995a523a64eac"
          ]
        },
        "cellView": "form",
        "outputId": "e1ea505a-7979-47c1-9a14-073259caa568"
      },
      "source": [
        "#@title Target language selection\n",
        "\n",
        "from joeynmt.helpers import load_config\n",
        "\n",
        "class MasakhaneModelLoader():\n",
        "\n",
        "  def __init__(self, available_models_file):\n",
        "    self._model_dir_prefix = 'joeynmt/models/'\n",
        "    self._src_language = ''\n",
        "    self.models = self.load_available_models(available_models_file)\n",
        "  \n",
        "  def load_available_models(self, available_models_file, \n",
        "                            src_language='en', domain='JW300'):\n",
        "    # Get list of available models.\n",
        "    # If multiple models: select domain. \n",
        "    # Only select relevant models with correct src language.\n",
        "    models = {}\n",
        "    with open(available_models_file, 'r') as ofile:\n",
        "      for i, line in enumerate(ofile):\n",
        "        entries = line.strip().split(\"\\t\")\n",
        "        if i == 0:\n",
        "          headers = entries\n",
        "          header_keys = [h.__str__() for h in headers]\n",
        "          continue\n",
        "        model = {h: v for h, v in zip(header_keys, entries)}\n",
        "        if model['src_language'] != src_language or model['complete'] != 'yes':\n",
        "          continue\n",
        "        if model['trg_language'] in models.keys() and model['domain'] != domain:\n",
        "          continue\n",
        "        models[model['trg_language']] = model\n",
        "    print('Found {} Masakhane models.'.format(len(models)))\n",
        "    self._model_dir_prefix += src_language\n",
        "    self._src_language = src_language\n",
        "    return models\n",
        "  \n",
        "  def download_model(self, trg_language):\n",
        "    \"\"\" Download model for given trg language. \"\"\"\n",
        "    model_dir = \"{}-{}\".format(self._model_dir_prefix, trg_language)\n",
        "    !mkdir -p $model_dir\n",
        "    model_files = self.models[trg_language]\n",
        "    # Download the checkpoint.\n",
        "    ckpt_path = os.path.join(model_dir, 'model.ckpt')\n",
        "    self._download(model_files['ckpt'], ckpt_path)\n",
        "    # Download the vocabularies.\n",
        "    src_vocab_file = model_files['src_vocab']\n",
        "    trg_vocab_file = model_files['trg_vocab']\n",
        "    src_vocab_path = os.path.join(model_dir, 'src_vocab.txt')\n",
        "    self._download(src_vocab_file, src_vocab_path)\n",
        "    trg_vocab_path = os.path.join(model_dir, 'trg_vocab.txt')\n",
        "    self._download(trg_vocab_file, trg_vocab_path)\n",
        "    # Download the config.\n",
        "    config_file = model_files['config.yaml']\n",
        "    config_path = os.path.join(model_dir, 'config_orig.yaml')\n",
        "    self._download(config_file, config_path)\n",
        "    # Adjust config.\n",
        "    config = load_config(config_path)\n",
        "    new_config_file = os.path.join(model_dir, 'config.yaml')\n",
        "    config = self._update_config(config, src_vocab_path, trg_vocab_path,\n",
        "                                 model_dir, ckpt_path)\n",
        "    with open(new_config_file, 'w') as cfile:\n",
        "      yaml.dump(config, cfile)\n",
        "    # Download BPE codes.\n",
        "    src_bpe_path = os.path.join(model_dir, 'src.bpe.model')\n",
        "    trg_bpe_path = os.path.join(model_dir, 'trg.bpe.model')\n",
        "    self._download(model_files['src_bpe'], src_bpe_path)\n",
        "    self._download(model_files['trg_bpe'], trg_bpe_path)\n",
        "    print('Downloaded model for {}-{}.'.format(self._src_language, trg_language))\n",
        "    return model_dir, config, self._is_lc(src_vocab_path)\n",
        "\n",
        "  def _update_config(self, config, new_src_vocab_path, new_trg_vocab_path,\n",
        "                     new_model_dir, new_ckpt_path):\n",
        "    \"\"\"Overwrite the settings in the given config.\"\"\"\n",
        "    config['data']['src_vocab'] = new_src_vocab_path\n",
        "    if config['model'].get('tied_embeddings', False):\n",
        "      config['data']['trg_vocab'] = new_src_vocab_path\n",
        "    else:\n",
        "      config['data']['trg_vocab'] = new_trg_vocab_path\n",
        "    config['training']['model_dir'] = new_model_dir\n",
        "    config['training']['load_model'] = new_ckpt_path\n",
        "    return config\n",
        "\n",
        "  def _is_lc(self, src_vocab_path):\n",
        "    # Infer whether the model is built on lowercased data.\n",
        "    lc = True\n",
        "    with open(src_vocab_path, 'r') as ofile:\n",
        "      for line in ofile:\n",
        "        if line != line.lower():\n",
        "          lc = False\n",
        "          break\n",
        "    return lc\n",
        "\n",
        "  def _download_gdrive_file(self, file_id, destination):\n",
        "    \"\"\"Download a file from Google Drive and store in local file.\"\"\"\n",
        "    download_link = 'https://drive.google.com/uc?id={}'.format(file_id)\n",
        "    !gdown -q -O $destination $download_link\n",
        "\n",
        "  def _download_github_file(self, github_raw_path, destination):\n",
        "    \"\"\"Download a file from GitHub.\"\"\"\n",
        "    ! wget -q -O $destination $github_raw_path\n",
        "\n",
        "  def _download(self, url, destination):\n",
        "    \"\"\"Download file from Github or Googledrive.\"\"\"\n",
        "    if url.startswith('https://raw.githubusercontent.com'):\n",
        "      self._download_github_file(url, destination)\n",
        "    elif 'drive.google.com' in url:\n",
        "      if url.startswith('https://drive.google.com/file'):\n",
        "        file_id = url.split(\"/\")[-1]\n",
        "      elif url.startswith('https://drive.google.com/open?'):\n",
        "        file_id = url.split('id=')[-1]\n",
        "      self._download_gdrive_file(file_id, destination)\n",
        "    else:\n",
        "      print(\"Download failed, didn't recognize url.\")\n",
        "\n",
        "available_models_file = 'available_models.tsv'\n",
        "! wget -q -O $available_models_file https://raw.githubusercontent.com/juliakreutzer/masakhane-covid/master/models/available_models.tsv\n",
        "\n",
        "model_loader = MasakhaneModelLoader(available_models_file=available_models_file)\n",
        "\n",
        "import ipywidgets as widgets\n",
        "print('Please select a target language.')\n",
        "lang_picker = widgets.Dropdown(options=model_loader.models.keys(), value='yo')\n",
        "lang_picker"
      ],
      "execution_count": 23,
      "outputs": [
        {
          "output_type": "stream",
          "text": [
            "Found 17 Masakhane models.\n",
            "Please select a target language.\n"
          ],
          "name": "stdout"
        },
        {
          "output_type": "display_data",
          "data": {
            "application/vnd.jupyter.widget-view+json": {
              "model_id": "c9b1546cf8624f5aa36e3033a795aa78",
              "version_minor": 0,
              "version_major": 2
            },
            "text/plain": [
              "Dropdown(index=15, options=('af', 'efi', 'bin', 'ish', 'ha', 'ig', 'iso', 'kam', 'ki', 'luo', 'pcm', 'nso', 's…"
            ]
          },
          "metadata": {
            "tags": []
          }
        }
      ]
    },
    {
      "cell_type": "code",
      "metadata": {
        "id": "-anABmsgKHH3",
        "colab_type": "code",
        "colab": {
          "base_uri": "https://localhost:8080/",
          "height": 35
        },
        "cellView": "form",
        "outputId": "ec345140-83b7-4dcb-960b-ab5096215f85"
      },
      "source": [
        "#@title Model download \n",
        "language = lang_picker.value\n",
        "model_dir, config, lc = model_loader.download_model(language)"
      ],
      "execution_count": 39,
      "outputs": [
        {
          "output_type": "stream",
          "text": [
            "Downloaded model for en-zu.\n"
          ],
          "name": "stdout"
        }
      ]
    },
    {
      "cell_type": "code",
      "metadata": {
        "id": "7o6Vb6ohdk7t",
        "colab_type": "code",
        "outputId": "29b07341-a25e-4df9-f9f9-2198ede0f966",
        "colab": {
          "base_uri": "https://localhost:8080/",
          "height": 73
        },
        "cellView": "form"
      },
      "source": [
        "#@title Test loaded model\n",
        "# Try if this works: this should not lead to an error message. \n",
        "! echo \"Test.\\nAnd again.\" > test.txt\n",
        "new_config_path = os.path.join(model_dir, 'config.yaml')\n",
        "! python -m joeynmt translate $new_config_path < test.txt > test_out.txt"
      ],
      "execution_count": 40,
      "outputs": [
        {
          "output_type": "stream",
          "text": [
            "2020-04-29 04:49:55,897 Hello! This is Joey-NMT.\n",
            "/pytorch/aten/src/ATen/native/BinaryOps.cpp:81: UserWarning: Integer division of tensors using div or / is deprecated, and in a future release div will perform true division as in Python 3. Use true_divide or floor_divide (// in Python) instead.\n"
          ],
          "name": "stdout"
        }
      ]
    },
    {
      "cell_type": "markdown",
      "metadata": {
        "id": "zrPPCopYg3GQ",
        "colab_type": "text"
      },
      "source": [
        "## Survey Data\n",
        "\n",
        "Now we're loading the data to translate."
      ]
    },
    {
      "cell_type": "code",
      "metadata": {
        "id": "xnrL4uPwgzlp",
        "colab_type": "code",
        "colab": {
          "base_uri": "https://localhost:8080/",
          "height": 53
        },
        "cellView": "form",
        "outputId": "3ea6fe23-a9a2-4fcf-cfb0-06a16bb8c872"
      },
      "source": [
        "#@title Load the source\n",
        "\n",
        "sentence_sep = \"###\"\n",
        "\n",
        "class SourceData():\n",
        "  def __init__(self, survey_link, bpe_path, out_file):\n",
        "    self._src_df = pd.read_csv(survey_link, sep='\\t')\n",
        "    print(\"Loaded {} lines.\".format(len(self._src_df)))\n",
        "    self._bpe_model = self.load_bpe(bpe_path)\n",
        "    self._src_df, self._sources = self.preprocess(out_file)\n",
        "  \n",
        "  def get_df(self):\n",
        "    return self._src_df\n",
        "  \n",
        "  def get_sources(self):\n",
        "    return self._sources\n",
        "\n",
        "  def preprocess(self, out_file):\n",
        "    \"\"\"Split into sentences, tokenize, (lowercase,) sub-word split.\n",
        "    \n",
        "    Using Polyglot since it was used for JW300.\n",
        "    Preprocess the source column of a dataframe object and write to file.\n",
        "  \n",
        "    Pipeline:\n",
        "    - split sentences\n",
        "    - tokenize\n",
        "    - split into sub-words\n",
        "\n",
        "    Append pre-processed sources to dataframe.\"\"\"\n",
        "    split_sentences = []\n",
        "    tokenized_sentences = []\n",
        "    bped_sentences = []\n",
        "    sources = []\n",
        "    with open(out_file, 'w') as ofile:\n",
        "      for i, row in self._src_df.iterrows():\n",
        "        sentences_i = Text(row[0]).sentences\n",
        "        split_sentences.append([str(s) for s in sentences_i])\n",
        "        tokenized_sentence = []\n",
        "        bped_sentence = []\n",
        "        for sentence_i in sentences_i:\n",
        "          tokenized = \" \".join(sentence_i.words)\n",
        "          sources.append(str(sentence_i))\n",
        "          if lc:\n",
        "            tokenized = tokenized.lower()\n",
        "          tokenized_sentence.append(tokenized)\n",
        "          bped = self._bpe_model.process_line(tokenized)\n",
        "          bped_sentence.append(bped)\n",
        "          ofile.write(\"{}\\n\".format(bped))\n",
        "        tokenized_sentences.append(tokenized_sentence)\n",
        "        bped_sentences.append(bped_sentence)\n",
        "    data = self._src_df.assign(\n",
        "        split_sentences=[sentence_sep.join(s) for s in split_sentences])\n",
        "    data = data.assign(\n",
        "        tokenized_sentences=[sentence_sep.join(s) for s in tokenized_sentences])\n",
        "    data = data.assign(\n",
        "        bped_sentences=[sentence_sep.join(s) for s in bped_sentences])\n",
        "    return data, sources\n",
        "\n",
        "  def load_bpe(self, bpe_path):\n",
        "    with open(bpe_path, 'r') as ofile:\n",
        "      bpe_model = apply_bpe.BPE(codes=ofile)\n",
        "    return bpe_model\n",
        "  \n",
        "src_input_file = 'src_input.txt'\n",
        "src_bpe_path = os.path.join(model_dir, 'src.bpe.model')\n",
        "survey_link = 'https://raw.githubusercontent.com/juliakreutzer/masakhane-covid/master/data/survey.tsv'\n",
        "src_data = SourceData(survey_link, bpe_path=src_bpe_path, out_file=src_input_file)\n",
        "sources = src_data.get_sources()\n",
        "survey_df = src_data.get_df()"
      ],
      "execution_count": 79,
      "outputs": [
        {
          "output_type": "stream",
          "text": [
            "Detector is not able to detect the language reliably.\n"
          ],
          "name": "stderr"
        },
        {
          "output_type": "stream",
          "text": [
            "Loaded 31 lines.\n"
          ],
          "name": "stdout"
        }
      ]
    },
    {
      "cell_type": "code",
      "metadata": {
        "id": "3KrfE3Uaw2TO",
        "colab_type": "code",
        "outputId": "18d25bd6-4fc6-4c2e-d04a-bade26c1a003",
        "colab": {
          "base_uri": "https://localhost:8080/",
          "height": 210
        },
        "cellView": "form"
      },
      "source": [
        "#@title Source excerpt\n",
        "survey_df[:3]"
      ],
      "execution_count": 82,
      "outputs": [
        {
          "output_type": "execute_result",
          "data": {
            "text/html": [
              "<div>\n",
              "<style scoped>\n",
              "    .dataframe tbody tr th:only-of-type {\n",
              "        vertical-align: middle;\n",
              "    }\n",
              "\n",
              "    .dataframe tbody tr th {\n",
              "        vertical-align: top;\n",
              "    }\n",
              "\n",
              "    .dataframe thead th {\n",
              "        text-align: right;\n",
              "    }\n",
              "</style>\n",
              "<table border=\"1\" class=\"dataframe\">\n",
              "  <thead>\n",
              "    <tr style=\"text-align: right;\">\n",
              "      <th></th>\n",
              "      <th>Survey on the number of persons with symptoms compatible with COVID-19</th>\n",
              "      <th>split_sentences</th>\n",
              "      <th>tokenized_sentences</th>\n",
              "      <th>bped_sentences</th>\n",
              "    </tr>\n",
              "  </thead>\n",
              "  <tbody>\n",
              "    <tr>\n",
              "      <th>0</th>\n",
              "      <td>We are an international team of scientists fro...</td>\n",
              "      <td>We are an international team of scientists fro...</td>\n",
              "      <td>we are an international team of scientists fro...</td>\n",
              "      <td>we are an international te@@ am of scienti@@ s...</td>\n",
              "    </tr>\n",
              "    <tr>\n",
              "      <th>1</th>\n",
              "      <td>Please answer this survey once a day, even if ...</td>\n",
              "      <td>Please answer this survey once a day, even if ...</td>\n",
              "      <td>please answer this survey once a day , even if...</td>\n",
              "      <td>ple@@ ase answer this sur@@ ve@@ y once a day ...</td>\n",
              "    </tr>\n",
              "    <tr>\n",
              "      <th>2</th>\n",
              "      <td>Pressing the \"submit\" button implies explicit ...</td>\n",
              "      <td>Pressing the \"submit\" button implies explicit ...</td>\n",
              "      <td>pressing the \" submit \" button implies explici...</td>\n",
              "      <td>pre@@ ssing the \" sub@@ m@@ it \" bu@@ tt@@ on ...</td>\n",
              "    </tr>\n",
              "  </tbody>\n",
              "</table>\n",
              "</div>"
            ],
            "text/plain": [
              "  Survey on the number of persons with symptoms compatible with COVID-19  ...                                     bped_sentences\n",
              "0  We are an international team of scientists fro...                      ...  we are an international te@@ am of scienti@@ s...\n",
              "1  Please answer this survey once a day, even if ...                      ...  ple@@ ase answer this sur@@ ve@@ y once a day ...\n",
              "2  Pressing the \"submit\" button implies explicit ...                      ...  pre@@ ssing the \" sub@@ m@@ it \" bu@@ tt@@ on ...\n",
              "\n",
              "[3 rows x 4 columns]"
            ]
          },
          "metadata": {
            "tags": []
          },
          "execution_count": 82
        }
      ]
    },
    {
      "cell_type": "code",
      "metadata": {
        "id": "jze2YpP1_wXy",
        "colab_type": "code",
        "outputId": "5bda3bd4-1009-492e-c52b-94053d896869",
        "colab": {
          "base_uri": "https://localhost:8080/",
          "height": 109
        },
        "cellView": "form"
      },
      "source": [
        "#@title Translation with Joey NMT\n",
        "trg_output_file = 'targets.txt'\n",
        "print('Translating...')\n",
        "! python -m joeynmt translate $model_dir/config.yaml < $src_input_file > $trg_output_file\n",
        "\n",
        "# Post-processing\n",
        "def post_process(output_file):\n",
        "  \"\"\"Load and detokenize translations.\n",
        "  \n",
        "  There is no given Polyglot detokenizer, so we do it by heuristics.\n",
        "  \"\"\"\n",
        "  targets = []\n",
        "  with open(trg_output_file, 'r') as ofile:\n",
        "    for line in ofile:\n",
        "      sent = line.strip()\n",
        "      sent = sent.replace('<pad>', '')\n",
        "      sent = re.sub(r'\\s+([?.!\"-,:’])', r'\\1', sent)\n",
        "      sent = sent.replace('( ', '(').replace(' - ', '-').replace(' / ', '/').replace(' /', '/')\n",
        "      if lc:\n",
        "        # Cheap casing restoration... only first character but better than nothing.\n",
        "        sent = sent[0].upper() + sent[1:]\n",
        "      targets.append(sent)\n",
        "  return targets\n",
        "\n",
        "targets = post_process(trg_output_file)\n",
        "\n",
        "print('Done!')"
      ],
      "execution_count": 83,
      "outputs": [
        {
          "output_type": "stream",
          "text": [
            "Translating...\n",
            "2020-04-29 04:14:02,339 Hello! This is Joey-NMT.\n",
            "/pytorch/aten/src/ATen/native/BinaryOps.cpp:81: UserWarning: Integer division of tensors using div or / is deprecated, and in a future release div will perform true division as in Python 3. Use true_divide or floor_divide (// in Python) instead.\n",
            "Done!\n"
          ],
          "name": "stdout"
        }
      ]
    },
    {
      "cell_type": "markdown",
      "metadata": {
        "id": "cAfIIAVvF-Qi",
        "colab_type": "text"
      },
      "source": [
        "## Post-edit"
      ]
    },
    {
      "cell_type": "code",
      "metadata": {
        "id": "uugxFs3YjIL_",
        "colab_type": "code",
        "outputId": "909483f9-9a6f-454f-f4db-9862d912f076",
        "colab": {
          "base_uri": "https://localhost:8080/",
          "height": 291,
          "referenced_widgets": [
            "9148a22fd5774ca28f439ccae70c0da2",
            "51c8dea4c636416da035d9f42319f05a",
            "44cb61ed814b4d88ac8d9b72d46e96e9",
            "09164a9768f74afeae63f4886c705e1e",
            "9e1b7b98b3f9438381990e133a9df8bb",
            "267d33e0a5474c6ba3382c01cc3903c3",
            "1923ea9f4c9a4c0fba704119510668ef",
            "43c2b066512a419b88a75305f5ca2057",
            "9aa882b2f8344d34998277ca0f58a05b",
            "b2046bc532514d9698809c0a1574b111",
            "c4e362edbdb34115b953e7d287656b19",
            "9553be3cc60e43ceb25bc8c55a1a7d7c",
            "27d54047195d412e838a76ad3e1fc287",
            "91d2f29aa1cb4997a4fc90c1d5608df3",
            "62359c1e315840b183be4bda2bc45d08",
            "9bd5cc0dfb89494cb6dd5192a5574824",
            "8b590946fe974d18b4013b4a14ac1316"
          ]
        },
        "cellView": "form"
      },
      "source": [
        "#@title Now it's your turn!\n",
        "class SentenceCounterLabel():\n",
        "  def __init__(self, num_sentences):\n",
        "    self._num_sentences = num_sentences\n",
        "    self._label = widgets.Label(\"\")\n",
        "\n",
        "  def update(self, current_sentence_index):\n",
        "    self._label.value = f\"Please correct the mistakes in the following translation ({current_sentence_index + 1} out of {self._num_sentences}):\"\n",
        "\n",
        "  def get_label(self):\n",
        "    return self._label\n",
        "\n",
        "class SentenceCounter(object):\n",
        "  def __init__(self, source_sentences, target_sentences):\n",
        "    self._count = 0\n",
        "    \n",
        "    assert len(source_sentences) == len(target_sentences)\n",
        "    self._max_count = len(source_sentences) - 1\n",
        "\n",
        "    self._source = source_sentences\n",
        "    self._target = target_sentences\n",
        "    self._post_edits = [\"\"]*len(target_sentences)\n",
        "\n",
        "    self._label = SentenceCounterLabel(self._max_count + 1)\n",
        "    self._update_label()\n",
        "\n",
        "  def _update_label(self):\n",
        "    self._label.update(self._count)\n",
        "\n",
        "  def decrement(self):\n",
        "    if self._count > 0:\n",
        "      self._count -= 1\n",
        "\n",
        "    self._update_label()\n",
        "\n",
        "  def increment(self):\n",
        "    if self._count < self._max_count:\n",
        "      self._count += 1\n",
        "\n",
        "    self._update_label()\n",
        "\n",
        "  def get_count(self):\n",
        "    return self._count\n",
        "  \n",
        "  def get_max_count(self):\n",
        "    return self._max_count\n",
        "\n",
        "  def get_source(self):\n",
        "    return self._source[self._count]\n",
        "\n",
        "  def get_target(self):\n",
        "    return self._target[self._count]\n",
        "\n",
        "  def update_pe(self, post_edit):\n",
        "    self._post_edits[self._count] = post_edit\n",
        "\n",
        "  def get_label(self):\n",
        "    return self._label.get_label()\n",
        "\n",
        "  def get_pes(self):\n",
        "    return self._post_edits\n",
        "\n",
        "  @property\n",
        "  def pe_is_complete(self):\n",
        "    return all([e != '' for e in self._post_edits])\n",
        "\n",
        "sentence_counter = SentenceCounter(\n",
        "  sources, targets\n",
        ")\n",
        "\n",
        "out = widgets.Output()\n",
        "\n",
        "trg_text = widgets.Textarea(\n",
        "  value=sentence_counter.get_target(),\n",
        "  description=\"Target\",\n",
        "  disabled=False,\n",
        "  layout=widgets.Layout(width=\"90%\", overflow=\"auto\"),\n",
        "  rows=5\n",
        ")\n",
        "\n",
        "src_text = widgets.Textarea(\n",
        "  value=sentence_counter.get_source(),\n",
        "  description=\"Source\",\n",
        "  disabled=True,\n",
        "  layout=widgets.Layout(width=\"90%\", overflow=\"auto\"),\n",
        "  rows=5\n",
        ")\n",
        "\n",
        "prev_button = widgets.Button(\n",
        "  description='Previous Sentence',\n",
        "  disabled=False,\n",
        "  button_style='',\n",
        "  tooltip='Click me',\n",
        "  icon='check'\n",
        ")\n",
        "\n",
        "next_button = widgets.Button(\n",
        "  description='Next Sentence',\n",
        "  disabled=False,\n",
        "  button_style='',\n",
        "  tooltip='Click me',\n",
        "  icon='check'\n",
        ")\n",
        "\n",
        "def update_text_fields(trg_text_field, src_text_field, counter, increment=True):\n",
        "  counter.update_pe(trg_text_field.value)\n",
        "\n",
        "  if increment:\n",
        "    counter.increment()\n",
        "\n",
        "  else:\n",
        "    counter.decrement()\n",
        "  \n",
        "  trg_text_field.value = counter.get_target()\n",
        "  src_text_field.value = counter.get_source()\n",
        "\n",
        "\n",
        "with out:\n",
        "  def on_submit(trg_text_field, src_text_field, counter):\n",
        "    update_text_fields(trg_text_field, src_text_field, counter)\n",
        "\n",
        "  def on_click(button, trg_text_field, src_text_field, counter, increment=True):\n",
        "    update_text_fields(trg_text_field, src_text_field, counter, increment=increment)\n",
        "\n",
        "  display(sentence_counter.get_label())\n",
        "  display(src_text)\n",
        "  display(trg_text)\n",
        "  display(prev_button)\n",
        "  display(next_button)\n",
        "\n",
        "  prev_button.on_click(functools.partial(\n",
        "    on_click,\n",
        "    trg_text_field=trg_text,\n",
        "    src_text_field=src_text,\n",
        "    counter=sentence_counter,\n",
        "    increment=False\n",
        "  ))\n",
        "\n",
        "  next_button.on_click(functools.partial(\n",
        "    on_click,\n",
        "    trg_text_field=trg_text,\n",
        "    src_text_field=src_text,\n",
        "    counter=sentence_counter\n",
        "  ))\n",
        "\n",
        "display(out)"
      ],
      "execution_count": 62,
      "outputs": [
        {
          "output_type": "display_data",
          "data": {
            "application/vnd.jupyter.widget-view+json": {
              "model_id": "9148a22fd5774ca28f439ccae70c0da2",
              "version_minor": 0,
              "version_major": 2
            },
            "text/plain": [
              "Output()"
            ]
          },
          "metadata": {
            "tags": []
          }
        }
      ]
    },
    {
      "cell_type": "code",
      "metadata": {
        "id": "IOP1lkZ9lAQp",
        "colab_type": "code",
        "outputId": "f16b9ffc-51c9-4535-8f53-a9229940eda7",
        "colab": {
          "base_uri": "https://localhost:8080/",
          "height": 35
        }
      },
      "source": [
        "print(\"Finished?\", sentence_counter.pe_is_complete)"
      ],
      "execution_count": 63,
      "outputs": [
        {
          "output_type": "stream",
          "text": [
            "Finished? True\n"
          ],
          "name": "stdout"
        }
      ]
    },
    {
      "cell_type": "code",
      "metadata": {
        "id": "bUMnv9BnpujZ",
        "colab_type": "code",
        "colab": {}
      },
      "source": [
        "assert sentence_counter.pe_is_complete, 'Only move one once the post-edits are finished.'\n",
        "post_edits = sentence_counter.get_pes()"
      ],
      "execution_count": 0,
      "outputs": []
    },
    {
      "cell_type": "markdown",
      "metadata": {
        "id": "unYpOzgeqB7Y",
        "colab_type": "text"
      },
      "source": [
        "### Post-Edit Analysis\n",
        "\n",
        "We compute a bunch of automatic metrics to assess how much had to be edited.\n",
        "- BLEU: on corpus- and on sentence-level, for tokenized inputs and without tokenization.\n",
        "- ChrF: a character-level metric, on untokenized inputs.\n",
        "- TER: on sentence-level, white-space tokenized.\n",
        "\n",
        "In addition, your feedback would be very valuable.\n"
      ]
    },
    {
      "cell_type": "code",
      "metadata": {
        "id": "_0aO2DSBpiK2",
        "colab_type": "code",
        "colab": {
          "base_uri": "https://localhost:8080/",
          "height": 108,
          "referenced_widgets": [
            "e5c182d0237e41b79f0ea9adee241457",
            "7816cd8d62b04e02874c043a137eee91",
            "cc15c1cc0f804d67be9ece15145ee3a9"
          ]
        },
        "cellView": "form",
        "outputId": "70093675-339c-4187-f517-a6a34672d7c9"
      },
      "source": [
        "#@title Where did the model struggle?\n",
        "\n",
        "bleu_pe_none_tok = sacrebleu.corpus_bleu(targets, [post_edits], tokenize='none').score\n",
        "bleu_pe_intl_tok = sacrebleu.corpus_bleu(targets, [post_edits], tokenize='intl').score\n",
        "bleu_pe_none_tok_sent = [sacrebleu.sentence_bleu(target, post_edit).score for target, post_edit in zip(targets, post_edits)]\n",
        "chrf_pe_sent = [sacrebleu.sentence_chrf(target, post_edit).score*100 for target, post_edit in zip(targets, post_edits)]\n",
        "ter_pe_sent = [pyter.ter(target.split(' '), post_edit.split(' ')) for target, post_edit in zip(targets, post_edits)]\n",
        "\n",
        "#print('BLEU without tokenization: ', bleu_pe_none_tok)\n",
        "#print('BLEU with intl tokenization: ', bleu_pe_intl_tok)\n",
        "#print('Avg sent. BLEU', np.mean(bleu_pe_none_tok_sent))\n",
        "#print('Avg ChrF', np.mean(chrf_pe_sent))\n",
        "#print('Avg TER', np.mean(ter_pe_sent))\n",
        "\n",
        "feedback = widgets.Textarea(\n",
        "  value='The model had difficulties... ',\n",
        "  description=\"Feedback\",\n",
        "  disabled=False,\n",
        "  layout=widgets.Layout(width=\"90%\", overflow=\"auto\"),\n",
        "  rows=5\n",
        ")\n",
        "feedback"
      ],
      "execution_count": 74,
      "outputs": [
        {
          "output_type": "display_data",
          "data": {
            "application/vnd.jupyter.widget-view+json": {
              "model_id": "e5c182d0237e41b79f0ea9adee241457",
              "version_minor": 0,
              "version_major": 2
            },
            "text/plain": [
              "Textarea(value='The model had difficulties... ', description='Feedback', layout=Layout(overflow='auto', width=…"
            ]
          },
          "metadata": {
            "tags": []
          }
        }
      ]
    },
    {
      "cell_type": "markdown",
      "metadata": {
        "id": "1K-eW_JaphC5",
        "colab_type": "text"
      },
      "source": [
        "## Store the results\n",
        "\n",
        "We store sources, post-edits and targets in a per-sentence table, and merge individual sentences back together into the format of the survey.\n"
      ]
    },
    {
      "cell_type": "code",
      "metadata": {
        "id": "A3s-fXGTxbbq",
        "colab_type": "code",
        "colab": {},
        "cellView": "form"
      },
      "source": [
        "#@title Prepare output files\n",
        "assert len(targets) == len(sources) == len(post_edits)\n",
        "\n",
        "pe_output_file = 'pe_{}.tsv'.format(language)\n",
        "with open(pe_output_file, 'w') as ofile:\n",
        "  ofile.write('source\\ttranslation\\tpost-edit\\tbleu\\tchrf\\tter\\n')\n",
        "  for t, s, p, b, c, ter in zip(targets, sources, post_edits, bleu_pe_none_tok_sent, chrf_pe_sent, ter_pe_sent):\n",
        "    ofile.write('{}\\t{}\\t{}\\t{:.2f}\\t{:.2f}\\t{:.2f}\\n'.format(s, t, p, b, c, ter))\n",
        "\n",
        "pe_metric_file = 'pe_metrics_{}.tsv'.format(language)\n",
        "with open(pe_metric_file, 'w') as ofile:\n",
        "  ofile.write('Corpus BLEU tok=none:\\t{:.2f}\\n'.format(bleu_pe_none_tok))\n",
        "  ofile.write('Corpus BLEU tok=intl:\\t{:.2f}\\n'.format(bleu_pe_intl_tok))\n",
        "  ofile.write('Sent. BLEU tok=none:\\t{:.2f}\\n'.format(np.mean(bleu_pe_none_tok_sent)))\n",
        "  ofile.write('Avg TER tok=white:\\t{:.2f}\\n'.format(np.mean(ter_pe_sent)))\n",
        "  ofile.write('Avg ChrF:\\t{:.2f}\\n'.format(np.mean(chrf_pe_sent)))\n",
        "\n",
        "feedback_file = 'feedback_{}.txt'.format(language)\n",
        "with open(feedback_file, 'w') as ofile:\n",
        "  ofile.write(feedback.value)\n",
        "\n",
        "def join_translated_sentences(data, translations):\n",
        "  \"\"\"Join sentence translations just like in original source.\"\"\"\n",
        "  joined_targets = ['']*len(data)\n",
        "  target_counter = 0\n",
        "  for source_counter, row in enumerate(data['split_sentences']):\n",
        "    num_sents = row.count(sentence_sep)+1\n",
        "    joined_targets[source_counter] = sentence_sep.join(\n",
        "        translations[target_counter:target_counter+num_sents])\n",
        "    target_counter += num_sents\n",
        "  assert len(joined_targets) == len(data)\n",
        "  data = data.assign(\n",
        "      split_translations=joined_targets)\n",
        "  data = data.assign(\n",
        "      translations=[t.replace(sentence_sep, ' ') for t in joined_targets])  \n",
        "  return data\n",
        "\n",
        "survey_df = join_translated_sentences(survey_df, post_edits)\n",
        "\n",
        "def store_translations(data, output_file):\n",
        "  \"\"\"Store the translations (post-edited) in a file like the survey inputs.\"\"\"\n",
        "  with open(output_file, 'w') as ofile:\n",
        "    for translation in data['translations']:\n",
        "      ofile.write('{}\\n'.format(translation))\n",
        "\n",
        "output_file = 'survey_{}.tsv'.format(language)\n",
        "store_translations(survey_df, output_file)"
      ],
      "execution_count": 0,
      "outputs": []
    },
    {
      "cell_type": "code",
      "metadata": {
        "id": "TotJVQFy0feo",
        "colab_type": "code",
        "outputId": "69b1b98f-a7a4-4d73-9bf4-572021929f68",
        "colab": {
          "base_uri": "https://localhost:8080/",
          "height": 210
        },
        "cellView": "form"
      },
      "source": [
        "#@title Source and target excerpt\n",
        "survey_df[:3]"
      ],
      "execution_count": 100,
      "outputs": [
        {
          "output_type": "execute_result",
          "data": {
            "text/html": [
              "<div>\n",
              "<style scoped>\n",
              "    .dataframe tbody tr th:only-of-type {\n",
              "        vertical-align: middle;\n",
              "    }\n",
              "\n",
              "    .dataframe tbody tr th {\n",
              "        vertical-align: top;\n",
              "    }\n",
              "\n",
              "    .dataframe thead th {\n",
              "        text-align: right;\n",
              "    }\n",
              "</style>\n",
              "<table border=\"1\" class=\"dataframe\">\n",
              "  <thead>\n",
              "    <tr style=\"text-align: right;\">\n",
              "      <th></th>\n",
              "      <th>Survey on the number of persons with symptoms compatible with COVID-19</th>\n",
              "      <th>split_sentences</th>\n",
              "      <th>tokenized_sentences</th>\n",
              "      <th>bped_sentences</th>\n",
              "      <th>split_translations</th>\n",
              "      <th>translations</th>\n",
              "    </tr>\n",
              "  </thead>\n",
              "  <tbody>\n",
              "    <tr>\n",
              "      <th>0</th>\n",
              "      <td>We are an international team of scientists fro...</td>\n",
              "      <td>We are an international team of scientists fro...</td>\n",
              "      <td>we are an international team of scientists fro...</td>\n",
              "      <td>we are an international te@@ am of scienti@@ s...</td>\n",
              "      <td>\"ons is’ n internasionale span van wetenskapli...</td>\n",
              "      <td>\"ons is’ n internasionale span van wetenskapli...</td>\n",
              "    </tr>\n",
              "    <tr>\n",
              "      <th>1</th>\n",
              "      <td>Please answer this survey once a day, even if ...</td>\n",
              "      <td>Please answer this survey once a day, even if ...</td>\n",
              "      <td>please answer this survey once a day , even if...</td>\n",
              "      <td>ple@@ ase answer this sur@@ ve@@ y once a day ...</td>\n",
              "      <td>\"antwoord asseblief hierdie oppervlakkige dag,...</td>\n",
              "      <td>\"antwoord asseblief hierdie oppervlakkige dag,...</td>\n",
              "    </tr>\n",
              "    <tr>\n",
              "      <th>2</th>\n",
              "      <td>Pressing the \"submit\" button implies explicit ...</td>\n",
              "      <td>Pressing the \"submit\" button implies explicit ...</td>\n",
              "      <td>pressing the \" submit \" button implies explici...</td>\n",
              "      <td>pre@@ ssing the \" sub@@ m@@ it \" bu@@ tt@@ on ...</td>\n",
              "      <td>\"</td>\n",
              "      <td>\"</td>\n",
              "    </tr>\n",
              "  </tbody>\n",
              "</table>\n",
              "</div>"
            ],
            "text/plain": [
              "  Survey on the number of persons with symptoms compatible with COVID-19  ...                                       translations\n",
              "0  We are an international team of scientists fro...                      ...  \"ons is’ n internasionale span van wetenskapli...\n",
              "1  Please answer this survey once a day, even if ...                      ...  \"antwoord asseblief hierdie oppervlakkige dag,...\n",
              "2  Pressing the \"submit\" button implies explicit ...                      ...                                                  \"\n",
              "\n",
              "[3 rows x 6 columns]"
            ]
          },
          "metadata": {
            "tags": []
          },
          "execution_count": 100
        }
      ]
    },
    {
      "cell_type": "markdown",
      "metadata": {
        "id": "Xyam69pl3vJh",
        "colab_type": "text"
      },
      "source": [
        "# Done!\n",
        "\n",
        "To finish, complete the following steps\n",
        "1. Download the following files from this colab:\n",
        "  - survey_{language}.tsv\n",
        "  - pe_metrics_{language}.tsv\n",
        "  - pe_{language}.tsv\n",
        "  - feedback_{language}.txt\n",
        " \n",
        "  For the download, either execute the next cell and allow the download, or click on 'Files' on the left bar, right-click on files and download.\n",
        "2. Send the data to kreutzer@cl.uni-heidelberg.de."
      ]
    },
    {
      "cell_type": "code",
      "metadata": {
        "id": "zIW3OgPI3gfG",
        "colab_type": "code",
        "colab": {},
        "cellView": "form"
      },
      "source": [
        "#@title File download\n",
        "from google.colab import files\n",
        "files.download('survey_{}.tsv'.format(language))\n",
        "files.download('pe_metrics_{}.tsv'.format(language))\n",
        "files.download('pe_{}.tsv'.format(language)) \n",
        "files.download('feedback_{}.txt'.format(language))"
      ],
      "execution_count": 0,
      "outputs": []
    }
  ]
}